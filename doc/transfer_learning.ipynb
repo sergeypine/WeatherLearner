{
 "cells": [
  {
   "cell_type": "markdown",
   "metadata": {},
   "source": [
    "# Transfer Learning"
   ]
  },
  {
   "cell_type": "markdown",
   "metadata": {},
   "source": [
    "### Motivation: snow is a kind of precipitation"
   ]
  },
  {
   "cell_type": "markdown",
   "metadata": {},
   "source": [
    " If two learning tasks are in some way similar, we may not need to build two different models from scratch. Rather, build model for `Task1` and reuse it for `Task2`, retraining only the outer layers.\n",
    " \n",
    " An example that's commonly given in literature is retraining massive industry standard Image Recognition models to classify a smaller set of image types, such as Cats and Dogs. The idea being that the massive industry proven model has already learned to detect features common to all images (e.g. edges, colors etc) and so we can use that more general learning to solve a more specific problem.\n",
    " \n",
    " Similarly, for the Capstone project some quantities that we are trying to predict appear to be related. Specifically, as part of the main work on the project we built a number of models to predict `Precipitation` (a binary classifier). Now whether or not it's going to _snow_ (`_is_snow` binary variable in our processed data set) appears to be a subset of `Precipitation`. \n",
    " \n",
    "Thus, in this demo we'll show how to use a complex model built for `Precipitation` to predict `Snow`."
   ]
  },
  {
   "cell_type": "markdown",
   "metadata": {},
   "source": [
    "### Deep Convolutional Model to Predict Precipitation\n",
    "\n",
    "We are going to use a single Conv1D / MaxPooling layer combined with a Dense layer to predict Precipitation as follows:"
   ]
  },
  {
   "cell_type": "code",
   "execution_count": 1,
   "metadata": {},
   "outputs": [],
   "source": [
    "def build_model_dcnn(is_binary, label_width, input_cnt):\n",
    "    _activation, _loss, _metrics = get_activation_loss_and_metrics(is_binary)\n",
    "    conv_width = 5\n",
    "\n",
    "    model = tf.keras.Sequential([\n",
    "\n",
    "        # Conv and Pooling Layers to learn some features\n",
    "        tf.keras.layers.Conv1D(filters=512,\n",
    "                               kernel_size=conv_width,\n",
    "                               activation='relu'),\n",
    "        tf.keras.layers.MaxPooling1D(pool_size=4),\n",
    "        \n",
    "        # Extra Hiddel Deeply Connected Layer\n",
    "        tf.keras.layers.Flatten(),\n",
    "        tf.keras.layers.Dense(units=input_cnt / 10, activation='relu'),\n",
    "        \n",
    "        # Output Layer\n",
    "        tf.keras.layers.Dense(units=label_width, activation=_activation, kernel_initializer=tf.initializers.zeros()),\n",
    "        tf.keras.layers.Reshape([label_width, 1]),\n",
    "    ])\n",
    "\n",
    "    model.compile(loss=_loss, optimizer='adam', metrics=[_metrics])\n",
    "    return model\n",
    "\n",
    "def get_activation_loss_and_metrics(is_binary):\n",
    "    activation, loss, metrics = \"linear\", 'mean_squared_error', REGRESSION_METRICS\n",
    "    if is_binary:\n",
    "        activation, loss, metrics = \"sigmoid\", tf.keras.losses.BinaryCrossentropy(), CLASSIFICATION_METRICS\n",
    "\n",
    "    return activation, loss, metrics"
   ]
  },
  {
   "cell_type": "markdown",
   "metadata": {},
   "source": [
    "When we train this kind of model to predict Precipitation **12h in advance**, we get the following results:\n",
    "\n",
    "\n",
    "| PRECISION | RECALL |\n",
    "| -----------------| ------------- |\n",
    "| 0.76 | 0.47 |\n"
   ]
  },
  {
   "cell_type": "markdown",
   "metadata": {},
   "source": [
    "### Re-purpose the DCNN model for Precipitation to Predict Snow\n",
    "\n",
    "The approach is to freeze the Convolutional / Pooling Layers and retrain the Dense and Output Layer only. That way we re-use the previously learned features that matter for determining `Precipitation` and only fine tune the output layers to make them fit the `Snow` problem specifically.\n",
    "\n",
    "Here is what the `Precipitation` Model looks like when we load it from file:\n",
    "\n",
    "```\n",
    "Layer (type)                 Output Shape              Param #   \n",
    "=================================================================\n",
    "conv1d (Conv1D)              (None, 32, 512)           410112    \n",
    "_________________________________________________________________\n",
    "max_pooling1d (MaxPooling1D) (None, 8, 512)            0         \n",
    "_________________________________________________________________\n",
    "flatten (Flatten)            (None, 4096)              0         \n",
    "_________________________________________________________________\n",
    "dense (Dense)                (None, 576)               2359872   \n",
    "_________________________________________________________________\n",
    "dense_1 (Dense)              (None, 7)                 4039      \n",
    "_________________________________________________________________\n",
    "reshape (Reshape)            (None, 7, 1)              0         \n",
    "```\n",
    "\n",
    "Here is the code to generate a new model that freezes the Conv/Pooling layers and opens up the Outer layers:"
   ]
  },
  {
   "cell_type": "code",
   "execution_count": 2,
   "metadata": {},
   "outputs": [],
   "source": [
    "def tweak_model(model_to_tweak):\n",
    "    model = keras.models.load_model(libcommons.libcommons.get_model_file(model_to_tweak))\n",
    "    model.summary()\n",
    "\n",
    "    new_model= keras.models.Sequential()\n",
    "    layer_no = 0\n",
    "    for layer in model.layers:\n",
    "        if layer.name == 'conv1d' or layer.name == 'max_pooling1d': # Freeze Convolutional and Pooling Layers\n",
    "            layer.trainable = False\n",
    "\n",
    "        if layer_no < len(model.layers) - 3: # Do not include the last Dense and Output layers\n",
    "            new_model.add(layer)\n",
    "\n",
    "        layer_no = layer_no + 1\n",
    "\n",
    "    # Put in new Dense & Output Layers\n",
    "    new_model.add(tf.keras.layers.Dense(name='Deep_Dense_2', units=100, activation='relu'))\n",
    "    new_model.add(tf.keras.layers.Dense(name='Dense_Out', units=7, activation='sigmoid', kernel_initializer=tf.initializers.zeros()))\n",
    "    new_model.add(tf.keras.layers.Reshape([7, 1])),\n",
    "\n",
    "    for layer in new_model.layers:\n",
    "        print(\"NEW LAYER: {}, trainable= {}\".format(layer.name, layer.trainable))\n",
    "\n",
    "    new_model.compile(loss=tf.keras.losses.BinaryCrossentropy(), optimizer='adam', metrics=[CLASSIFICATION_METRICS])\n",
    "\n",
    "    return new_model\n"
   ]
  },
  {
   "cell_type": "markdown",
   "metadata": {},
   "source": [
    "Running this code outputs:\n",
    "\n",
    "```\n",
    "NEW LAYER: conv1d, trainable= False\n",
    "NEW LAYER: max_pooling1d, trainable= False\n",
    "NEW LAYER: flatten, trainable= True\n",
    "NEW LAYER: Deep_Dense_2, trainable= True\n",
    "NEW LAYER: Dense_Out, trainable= True\n",
    "NEW LAYER: reshape, trainable= True\n",
    "```\n",
    "\n",
    "We shall now use the above to train 3 models to predict `Snow`, **6h**, **12h** and **18h** in advance:"
   ]
  },
  {
   "cell_type": "code",
   "execution_count": null,
   "metadata": {},
   "outputs": [],
   "source": [
    "for target_model in ([config.PREDICTION_TARGET_IS_SNOW_6H, \n",
    "                      config.PREDICTION_TARGET_IS_SNOW_12H, \n",
    "                      config.PREDICTION_TARGET_IS_SNOW_18H]):\n",
    "    new_model = tweak_model(config.PREDICTION_TARGET_IS_PRECIP_12H)\n",
    "    create_model(config.PREDICTION_TARGET_IS_PRECIP_12H, target_model, new_model, '../../processed-data')"
   ]
  },
  {
   "cell_type": "markdown",
   "metadata": {},
   "source": [
    "### Results\n",
    "\n",
    "True to the promise of Transfer Learning, we can build the models for predicting `Snow` quite a bit faster than the original `Precipitation+12h` model. Here is how each of the models performed:\n",
    "\n",
    "| Lookahead, hr | Precision | Recall |\n",
    "| --- | --- | --- |\n",
    "| 6 | 0.78| 0.6 |\n",
    "|12 | 0.62 | 0.43 |\n",
    "|0 | 0.47 | 0.35 |\n",
    "\n",
    "Not bad, given that we got 3 models out of 1 and did not have to fully train any of them!"
   ]
  },
  {
   "cell_type": "code",
   "execution_count": null,
   "metadata": {},
   "outputs": [],
   "source": []
  }
 ],
 "metadata": {
  "kernelspec": {
   "display_name": "Python 3",
   "language": "python",
   "name": "python3"
  },
  "language_info": {
   "codemirror_mode": {
    "name": "ipython",
    "version": 3
   },
   "file_extension": ".py",
   "mimetype": "text/x-python",
   "name": "python",
   "nbconvert_exporter": "python",
   "pygments_lexer": "ipython3",
   "version": "3.8.5"
  }
 },
 "nbformat": 4,
 "nbformat_minor": 4
}
